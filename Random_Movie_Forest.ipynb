# loading standard modules.
import os
import pandas as pd
import numpy as np
import seaborn as sns
import matplotlib.pyplot as plt
%matplotlib inline
train=pd.read_excel('../ml_data2_train1.xlsx')
test=pd.read_excel('../ml_data2_test1.xlsx')
train.info()
<class 'pandas.core.frame.DataFrame'>
RangeIndex: 5304 entries, 0 to 5303
Data columns (total 39 columns):
ID                         5304 non-null int64
Title                      5304 non-null object
InSample                   5304 non-null int64
Profitable                 5304 non-null int64
Profit                     5304 non-null float64
YongProfit                 5304 non-null float64
LogProfit                  5304 non-null float64
NetRevenue                 5304 non-null float64
Revenue                    5304 non-null int64
Budget                     5304 non-null int64
InflAdj_Revenue            5304 non-null float64
InflAdj_Budget             5304 non-null float64
Sequel                     5304 non-null int64
Title_Romance              5304 non-null int64
Title_PowerfulPeople       5304 non-null int64
Title_Direct               5304 non-null int64
Title_WordCount            5304 non-null int64
Overview_Relatives         5294 non-null float64
Overview_Adventure         5294 non-null float64
Overview_PowerfulPeople    5294 non-null float64
Overview_Hollywood         5294 non-null float64
Overview_Direct            5294 non-null float64
Keyword_Count              4979 non-null float64
Cast_Count                 5169 non-null float64
Crew_Count                 5174 non-null float64
Crew_Dept_Score            5174 non-null float64
Company_Score              5138 non-null float64
Language_Score             5304 non-null int64
Country_Score_Profit       5250 non-null float64
Country_Score_Revenue      5250 non-null float64
Genre_Score                5293 non-null float64
vote_average               5304 non-null float64
vote_count                 5304 non-null int64
popularity                 5304 non-null float64
runtime                    5303 non-null float64
release_date               5304 non-null datetime64[ns]
status                     5304 non-null object
avg_rate                   5299 non-null float64
rate_count                 5299 non-null float64
dtypes: datetime64[ns](1), float64(24), int64(12), object(2)
memory usage: 1.6+ MB
 train.head()
train['Profitable'].value_counts(normalize=True)
sns.countplot(train['Profitable'])
plt.show()


